{
  "nbformat": 4,
  "nbformat_minor": 0,
  "metadata": {
    "colab": {
      "provenance": [],
      "include_colab_link": true
    },
    "kernelspec": {
      "name": "python3",
      "display_name": "Python 3"
    },
    "language_info": {
      "name": "python"
    }
  },
  "cells": [
    {
      "cell_type": "markdown",
      "metadata": {
        "id": "view-in-github",
        "colab_type": "text"
      },
      "source": [
        "<a href=\"https://colab.research.google.com/github/playground-mr0/notebooks/blob/main/Test_notebook.ipynb\" target=\"_parent\"><img src=\"https://colab.research.google.com/assets/colab-badge.svg\" alt=\"Open In Colab\"/></a>"
      ]
    },
    {
      "cell_type": "code",
      "execution_count": 15,
      "metadata": {
        "id": "unOwRIseJpg1",
        "outputId": "186faf2f-05ed-47f5-c716-4453fc455b31",
        "colab": {
          "base_uri": "https://localhost:8080/"
        }
      },
      "outputs": [
        {
          "output_type": "stream",
          "name": "stdout",
          "text": [
            "hello, ran in actual collab\n"
          ]
        }
      ],
      "source": [
        "print(\"hello, ran in actual collab\")"
      ]
    },
    {
      "cell_type": "code",
      "source": [
        "print(\"hello, ran automatically by python library in loca PC\")"
      ],
      "metadata": {
        "id": "fZNuaBfsJvve",
        "outputId": "432595b9-18ce-4ee5-8ea1-72d07852aa33",
        "colab": {
          "base_uri": "https://localhost:8080/"
        }
      },
      "execution_count": 16,
      "outputs": [
        {
          "output_type": "stream",
          "name": "stdout",
          "text": [
            "hello, ran automatically by python library in loca PC\n"
          ]
        }
      ]
    },
    {
      "cell_type": "code",
      "source": [
        "print(\"New cell, new to github\")"
      ],
      "metadata": {
        "id": "bK40_0ZPYkZf",
        "outputId": "ac6ab010-40d9-43ed-f6a3-3c14357619bd",
        "colab": {
          "base_uri": "https://localhost:8080/"
        }
      },
      "execution_count": 17,
      "outputs": [
        {
          "output_type": "stream",
          "name": "stdout",
          "text": [
            "New cell, new to github\n"
          ]
        }
      ]
    },
    {
      "cell_type": "markdown",
      "source": [],
      "metadata": {
        "id": "t7bJY6BwSvGz"
      }
    }
  ]
}
{
  "nbformat": 4,
  "nbformat_minor": 0,
  "metadata": {
    "colab": {
      "provenance": [],
      "include_colab_link": true
    },
    "kernelspec": {
      "name": "python3",
      "display_name": "Python 3"
    },
    "language_info": {
      "name": "python"
    }
  },
  "cells": [
    {
      "cell_type": "markdown",
      "metadata": {
        "id": "view-in-github",
        "colab_type": "text"
      },
      "source": [
        "<a href=\"https://colab.research.google.com/github/playground-mr0/notebooks/blob/main/Test_notebook.ipynb\" target=\"_parent\"><img src=\"https://colab.research.google.com/assets/colab-badge.svg\" alt=\"Open In Colab\"/></a>"
      ]
    },
    {
      "cell_type": "code",
      "execution_count": null,
      "metadata": {
        "id": "unOwRIseJpg1",
        "outputId": "5fb0bb64-9215-4755-c98f-c02c31bfa2ef",
        "colab": {
          "base_uri": "https://localhost:8080/"
        }
      },
      "outputs": [
        {
          "output_type": "stream",
          "name": "stdout",
          "text": [
            "hello, ran in actual collab\n"
          ]
        }
      ],
      "source": [
        "print(\"hello, ran in actual collab\")"
      ]
    },
    {
      "cell_type": "code",
      "source": [
        "print(\"hello, ran automatically by python library in loca PC\")"
      ],
      "metadata": {
        "id": "fZNuaBfsJvve",
        "outputId": "84620430-71fe-45cc-9ec3-f2b5a9b35185",
        "colab": {
          "base_uri": "https://localhost:8080/"
        }
      },
      "execution_count": null,
      "outputs": [
        {
          "output_type": "stream",
          "name": "stdout",
          "text": [
            "hello, ran automatically by python library in loca PC\n"
          ]
        }
      ]
    },
    {
      "cell_type": "code",
      "source": [
        "print(\"New cell\")"
      ],
      "metadata": {
        "id": "bK40_0ZPYkZf",
        "outputId": "2745a093-823a-4e6e-8e5e-caa4e6b6eb71",
        "colab": {
          "base_uri": "https://localhost:8080/"
        }
      },
      "execution_count": null,
      "outputs": [
        {
          "output_type": "stream",
          "name": "stdout",
          "text": [
            "New cell\n"
          ]
        }
      ]
    },
    {
      "cell_type": "markdown",
      "source": [],
      "metadata": {
        "id": "t7bJY6BwSvGz"
      }
    }
  ]
}
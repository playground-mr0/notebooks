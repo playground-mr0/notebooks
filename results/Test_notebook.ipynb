{
  "nbformat": 4,
  "nbformat_minor": 0,
  "metadata": {
    "colab": {
      "provenance": []
    },
    "kernelspec": {
      "name": "python3",
      "display_name": "Python 3"
    },
    "language_info": {
      "name": "python"
    }
  },
  "cells": [
    {
      "cell_type": "code",
      "execution_count": 2,
      "metadata": {
        "colab": {
          "base_uri": "https://localhost:8080/"
        },
        "id": "wI9YhKDdVGRq",
        "outputId": "aa4a3513-5846-4d87-f4e0-c00a9290a2f8"
      },
      "outputs": [
        {
          "output_type": "stream",
          "name": "stdout",
          "text": [
            "Test notebook\n"
          ]
        }
      ],
      "source": [
        "print(\"Test notebook\")"
      ]
    },
    {
      "cell_type": "code",
      "source": [],
      "metadata": {
        "id": "WfnIjWSdVJgU"
      },
      "execution_count": 2,
      "outputs": []
    }
  ]
}
{
  "nbformat": 4,
  "nbformat_minor": 0,
  "metadata": {
    "colab": {
      "provenance": [],
      "include_colab_link": true
    },
    "kernelspec": {
      "name": "python3",
      "display_name": "Python 3"
    },
    "language_info": {
      "name": "python"
    }
  },
  "cells": [
    {
      "cell_type": "markdown",
      "metadata": {
        "id": "view-in-github",
        "colab_type": "text"
      },
      "source": [
        "<a href=\"https://colab.research.google.com/github/playground-mr0/notebooks/blob/main/Test_notebook.ipynb\" target=\"_parent\"><img src=\"https://colab.research.google.com/assets/colab-badge.svg\" alt=\"Open In Colab\"/></a>"
      ]
    },
    {
      "cell_type": "code",
      "execution_count": 3,
      "metadata": {
        "id": "unOwRIseJpg1",
        "outputId": "d9560b5f-e4e0-40e8-8087-53a97b261bb4",
        "colab": {
          "base_uri": "https://localhost:8080/"
        }
      },
      "outputs": [
        {
          "output_type": "stream",
          "name": "stdout",
          "text": [
            "hello, ran in actual collab\n"
          ]
        }
      ],
      "source": [
        "print(\"hello, ran in actual collab\")"
      ]
    },
    {
      "cell_type": "code",
      "source": [
        "print(\"hello, ran automatically by python library in loca PC\")"
      ],
      "metadata": {
        "id": "fZNuaBfsJvve",
        "outputId": "3e6c8ffd-129d-4b8f-b433-7bf325e0df47",
        "colab": {
          "base_uri": "https://localhost:8080/"
        }
      },
      "execution_count": 4,
      "outputs": [
        {
          "output_type": "stream",
          "name": "stdout",
          "text": [
            "hello, ran automatically by python library in loca PC\n"
          ]
        }
      ]
    },
    {
      "cell_type": "code",
      "source": [
        "print(\"New cell, new to github\")"
      ],
      "metadata": {
        "id": "bK40_0ZPYkZf",
        "outputId": "a457857e-be0d-435d-b42d-3d0af0bb3fd4",
        "colab": {
          "base_uri": "https://localhost:8080/"
        }
      },
      "execution_count": 5,
      "outputs": [
        {
          "output_type": "stream",
          "name": "stdout",
          "text": [
            "New cell, new to github\n"
          ]
        }
      ]
    },
    {
      "cell_type": "markdown",
      "source": [],
      "metadata": {
        "id": "t7bJY6BwSvGz"
      }
    }
  ]
}
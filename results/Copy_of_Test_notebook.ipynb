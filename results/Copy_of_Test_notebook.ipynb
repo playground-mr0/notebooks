{
  "nbformat": 4,
  "nbformat_minor": 0,
  "metadata": {
    "colab": {
      "provenance": []
    },
    "kernelspec": {
      "name": "python3",
      "display_name": "Python 3"
    },
    "language_info": {
      "name": "python"
    }
  },
  "cells": [
    {
      "cell_type": "code",
      "execution_count": 7,
      "metadata": {
        "id": "unOwRIseJpg1",
        "outputId": "2e26ed33-78f2-47c2-e626-72d8836a1ffe",
        "colab": {
          "base_uri": "https://localhost:8080/"
        }
      },
      "outputs": [
        {
          "output_type": "stream",
          "name": "stdout",
          "text": [
            "hello, ran in actual collab\n"
          ]
        }
      ],
      "source": [
        "print(\"hello, ran in actual collab\")"
      ]
    },
    {
      "cell_type": "code",
      "source": [
        "print(\"hello, ran automatically by python library in loca PC\")"
      ],
      "metadata": {
        "id": "fZNuaBfsJvve",
        "outputId": "bf60acce-3d8f-4d49-c5ce-69e52dea229d",
        "colab": {
          "base_uri": "https://localhost:8080/"
        }
      },
      "execution_count": 8,
      "outputs": [
        {
          "output_type": "stream",
          "name": "stdout",
          "text": [
            "hello, ran automatically by python library in loca PC\n"
          ]
        }
      ]
    },
    {
      "cell_type": "code",
      "source": [
        "print(\"New cell, new to github\")"
      ],
      "metadata": {
        "id": "bK40_0ZPYkZf",
        "outputId": "591ad79f-e305-4457-d53f-ac5e4ea909c1",
        "colab": {
          "base_uri": "https://localhost:8080/"
        }
      },
      "execution_count": 9,
      "outputs": [
        {
          "output_type": "stream",
          "name": "stdout",
          "text": [
            "New cell, new to github\n"
          ]
        }
      ]
    },
    {
      "cell_type": "markdown",
      "source": [],
      "metadata": {
        "id": "t7bJY6BwSvGz"
      }
    }
  ]
}
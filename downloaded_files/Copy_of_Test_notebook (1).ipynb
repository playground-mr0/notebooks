{
  "nbformat": 4,
  "nbformat_minor": 0,
  "metadata": {
    "colab": {
      "provenance": []
    },
    "kernelspec": {
      "name": "python3",
      "display_name": "Python 3"
    },
    "language_info": {
      "name": "python"
    }
  },
  "cells": [
    {
      "cell_type": "code",
      "execution_count": 34,
      "metadata": {
        "id": "unOwRIseJpg1",
        "colab": {
          "base_uri": "https://localhost:8080/"
        },
        "outputId": "d2bd5814-7fe1-4230-d0d9-0e00ccf2396e"
      },
      "outputs": [
        {
          "output_type": "stream",
          "name": "stdout",
          "text": [
            "hello, ran in actual collab\n"
          ]
        }
      ],
      "source": [
        "print(\"hello, ran in actual collab\")"
      ]
    },
    {
      "cell_type": "code",
      "source": [
        "print(\"hello, ran automatically by python library in loca PC\")"
      ],
      "metadata": {
        "id": "fZNuaBfsJvve",
        "colab": {
          "base_uri": "https://localhost:8080/"
        },
        "outputId": "8017d9d7-d4bf-47c9-e5f3-f427ade5afe3"
      },
      "execution_count": 35,
      "outputs": [
        {
          "output_type": "stream",
          "name": "stdout",
          "text": [
            "hello, ran automatically by python library in loca PC\n"
          ]
        }
      ]
    },
    {
      "cell_type": "code",
      "source": [
        "print(\"New cell, new to github\")"
      ],
      "metadata": {
        "id": "bK40_0ZPYkZf",
        "colab": {
          "base_uri": "https://localhost:8080/"
        },
        "outputId": "0622f41d-fa29-4448-fbfe-da0b6448a9b6"
      },
      "execution_count": 36,
      "outputs": [
        {
          "output_type": "stream",
          "name": "stdout",
          "text": [
            "New cell, new to github\n"
          ]
        }
      ]
    },
    {
      "cell_type": "markdown",
      "source": [],
      "metadata": {
        "id": "t7bJY6BwSvGz"
      }
    }
  ]
}